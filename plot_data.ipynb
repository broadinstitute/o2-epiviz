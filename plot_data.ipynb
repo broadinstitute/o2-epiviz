{
 "cells": [
  {
   "cell_type": "code",
   "execution_count": 9,
   "metadata": {},
   "outputs": [],
   "source": [
    "import glob\n",
    "import os\n",
    "from datetime import datetime, timedelta, date\n",
    "from os import path\n",
    "\n",
    "from igraph import *\n",
    "\n",
    "import seaborn as sns\n",
    "import numpy as np\n",
    "import pandas as pd\n",
    "\n",
    "import matplotlib.pyplot as plt\n",
    "%matplotlib inline"
   ]
  },
  {
   "cell_type": "code",
   "execution_count": 10,
   "metadata": {},
   "outputs": [],
   "source": [
    "# Various datasets to visualize\n",
    "\n",
    "option = 1\n",
    "\n",
    "if option == 1:\n",
    "    base_folder = \"./retreat2020\"\n",
    "    sim_id = 29\n",
    "    \n",
    "#     base_folder = \"./cmutest\"\n",
    "#     sim_id = 32\n",
    "    \n",
    "#     ext = \"csv\" # Extension of log file, either log or txt\n",
    "#     ntot = 20   # Total number of participants\n",
    "#     vstep = 2   # Time step for visualization\n",
    "#     ostep = 1   # Time step for output to R\n",
    "#     infer_new_cases_from_inf = True # Time for \"new case\" is inferred either from infection or removal time\n",
    "#     asympt = 2  # Asymptomatic period\n",
    "#     sympt = 2   # Symptomatic period\n",
    "#     start_sim = datetime.strptime(\"2020-03-05 13:30\", '%Y-%m-%d %H:%M')\n",
    "#     stop_sim = datetime.strptime(\"2020-03-05 14:15\", '%Y-%m-%d %H:%M')"
   ]
  },
  {
   "cell_type": "code",
   "execution_count": 11,
   "metadata": {},
   "outputs": [],
   "source": [
    "# Some config\n",
    "\n",
    "# Coded outcomes:\n",
    "# 0 = no infection\n",
    "# 1 = index case\n",
    "# 2 = transmission\n",
    "color_dict = {0: \"skyblue\", 1: \"lime\", 2: \"crimson\"}\n",
    "\n",
    "data_folder = path.join(base_folder, \"data\")\n",
    "output_folder = path.join(base_folder, \"output\")\n",
    "if not path.exists(output_folder):\n",
    "    os.mkdir(output_folder)\n",
    "    \n",
    "# viz_delta = timedelta(minutes=vstep)\n",
    "# out_delta = timedelta(minutes=ostep)  "
   ]
  },
  {
   "cell_type": "code",
   "execution_count": 12,
   "metadata": {},
   "outputs": [
    {
     "name": "stdout",
     "output_type": "stream",
     "text": [
      "32\n",
      "32\n",
      "32\n",
      "32\n"
     ]
    }
   ],
   "source": [
    "# Load participants and histories\n",
    "\n",
    "users = pd.read_csv(path.join(data_folder, \"participants.csv\")) \n",
    "histories = pd.read_csv(path.join(data_folder, \"histories.csv\"))\n",
    "\n",
    "p2pToSim = pd.Series(users.sim_id.values, index=users.p2p_id).to_dict()\n",
    "\n",
    "fn = \"contacts.pdf\"\n",
    "\n",
    "dfn = users[users[\"sim_id\"] == sim_id]\n",
    "hn = histories[histories[\"sim_id\"] == sim_id]\n",
    "cn = hn[hn[\"type\"] == \"contact\"]\n",
    "\n",
    "dfn\n",
    "p2pToId = pd.Series(dfn.id.values, index=dfn.p2p_id).to_dict()\n",
    "idTop2p = pd.Series(dfn.p2p_id.values, index=dfn.id).to_dict()\n",
    "        \n",
    "user_index = {}\n",
    "idx = 0\n",
    "for kid in idTop2p:\n",
    "    user_index[kid] = idx\n",
    "    idx += 1\n",
    "\n",
    "print(len(dfn))\n",
    "print(len(idTop2p))    \n",
    "print(len(p2pToId))\n",
    "print(len(user_index))"
   ]
  },
  {
   "cell_type": "code",
   "execution_count": 13,
   "metadata": {},
   "outputs": [
    {
     "name": "stdout",
     "output_type": "stream",
     "text": [
      "{(6, 10): 8.0, (10, 24): 119.0, (1, 22): 29.0, (1, 24): 11.0, (3, 7): 5.0, (3, 9): 5.0, (23, 24): 9.0, (4, 28): 23.0, (4, 12): 63.0, (3, 4): 65.0, (6, 24): 10.0, (10, 12): 12.0, (17, 24): 3.0, (3, 14): 10.0, (3, 10): 118.0, (1, 6): 22.0, (6, 14): 1.0, (10, 26): 37.0, (1, 12): 14.0, (4, 20): 12.0, (4, 10): 47.0, (4, 7): 8.0, (4, 17): 4.0, (3, 11): 7.0, (3, 12): 26.0, (12, 24): 31.0, (22, 24): 13.0, (3, 6): 11.0, (12, 30): 5.0, (7, 24): 9.0, (12, 26): 1.0, (1, 4): 11.0, (1, 9): 31.0, (24, 29): 10.0, (1, 17): 6.0, (3, 28): 8.0, (1, 21): 14.0, (1, 10): 33.0, (1, 7): 7.0, (17, 21): 3.0, (21, 22): 3.0, (9, 21): 3.0, (4, 14): 32.0, (8, 21): 3.0, (20, 21): 3.0, (8, 24): 6.0, (10, 23): 6.0, (9, 24): 5.0, (24, 26): 6.0, (9, 11): 3.0, (3, 25): 8.0, (3, 26): 7.0, (10, 29): 5.0, (10, 14): 11.0, (1, 20): 35.0, (6, 23): 3.0, (1, 11): 3.0, (17, 22): 1.0, (24, 30): 5.0, (1, 8): 15.0, (13, 24): 4.0, (27, 29): 4.0, (4, 9): 83.0, (1, 18): 6.0, (6, 27): 1.0, (27, 28): 3.0, (14, 24): 7.0, (28, 29): 2.0, (21, 24): 1.0, (3, 18): 8.0, (20, 24): 2.0, (4, 24): 33.0, (3, 27): 4.0, (10, 27): 10.0, (12, 27): 3.0, (24, 27): 7.0, (24, 28): 2.0, (3, 29): 4.0, (1, 16): 6.0, (3, 20): 5.0, (1, 3): 44.0, (1, 2): 33.0, (2, 5): 3.0, (2, 20): 3.0, (3, 24): 4.0, (2, 3): 7.0, (7, 21): 3.0, (10, 28): 9.0, (24, 25): 1.0, (10, 25): 7.0, (18, 24): 1.0, (19, 24): 1.0, (2, 17): 3.0, (4, 23): 25.0, (2, 10): 10.0, (4, 27): 22.0, (4, 22): 37.0, (3, 16): 5.0, (2, 19): 10.0, (2, 15): 6.0, (1, 14): 3.0, (1, 13): 3.0, (4, 29): 1.0, (2, 12): 10.0, (12, 19): 3.0, (12, 15): 7.0, (12, 17): 7.0, (12, 18): 3.0, (3, 15): 7.0, (2, 4): 1.0, (3, 5): 5.0, (3, 17): 3.0, (3, 8): 5.0, (3, 30): 11.0, (1, 15): 1.0}\n"
     ]
    }
   ],
   "source": [
    "# Generate contacts\n",
    "\n",
    "node0 = cn.user_id.values\n",
    "node1 = cn.peer_id.values\n",
    "time = cn.time.values\n",
    "length = cn.contact_length.values\n",
    "\n",
    "contacts = {}\n",
    "for id0, p2p1, t, l01 in zip(node0, node1, time, length):\n",
    "    n0 = user_index[id0]\n",
    "    if not p2p1 in p2pToId:\n",
    "        print(\"Possible contact with group\", p2pToSim[p2p1])\n",
    "        continue\n",
    "    n1 = user_index[p2pToId[p2p1]]\n",
    "    \n",
    "    t = datetime.fromtimestamp(t)\n",
    "    \n",
    "    if n1 < n0:\n",
    "        t = n1\n",
    "        n1 = n0\n",
    "        n0 = t\n",
    "    p01 = (n0, n1)\n",
    "    if p01 in contacts:\n",
    "        c = contacts[p01]\n",
    "    else: \n",
    "        c = 0\n",
    "    contacts[p01] = c + round(l01 / (60 * 1000))\n",
    "    \n",
    "print(contacts)"
   ]
  },
  {
   "cell_type": "code",
   "execution_count": 14,
   "metadata": {},
   "outputs": [],
   "source": [
    "# Generate infections and outcomes\n",
    "\n",
    "inf = hn[hn[\"type\"] == \"infection\"]\n",
    "infMap = pd.Series(inf.inf.values, index=inf.user_id).to_dict()\n",
    "outcomes = [0] * len(dfn)\n",
    "\n",
    "for kid in infMap:\n",
    "    src = infMap[kid]\n",
    "    idx = user_index[kid]\n",
    "    if \"CASE0\" in src:\n",
    "        outcomes[idx] = 1\n",
    "    if \"PEER\" in src:\n",
    "        outcomes[idx] = 2"
   ]
  },
  {
   "cell_type": "code",
   "execution_count": 15,
   "metadata": {},
   "outputs": [
    {
     "name": "stdout",
     "output_type": "stream",
     "text": [
      "True\n"
     ]
    }
   ],
   "source": [
    "nvert = len(user_index)\n",
    "\n",
    "edges = []\n",
    "weights = []\n",
    "edgesw = []\n",
    "for p in contacts:\n",
    "    n0 = p[0]\n",
    "    n1 = p[1]\n",
    "    w = contacts[p]\n",
    "    if 0 < w:\n",
    "        edges += [(n0, n1)]\n",
    "        weights += [w]\n",
    "        edgesw += [(n0, n1, w)]\n",
    "\n",
    "# https://stackoverflow.com/a/50430444\n",
    "g = Graph(directed=False)\n",
    "g.add_vertices(nvert)\n",
    "g.add_edges(edges)\n",
    "g.es['weight'] = weights\n",
    "# g.es['label'] = weights\n",
    "\n",
    "# g = Graph.TupleList(edgesw, weights=True)\n",
    "\n",
    "g.vs[\"outcome\"] = outcomes\n",
    "g.vs[\"color\"] = [color_dict[out] for out in g.vs[\"outcome\"]]\n",
    "\n",
    "print(g.is_weighted())\n",
    "\n",
    "style = {}\n",
    "style[\"bbox\"] = (800, 800)\n",
    "style[\"margin\"] = 15\n",
    "style[\"vertex_size\"] = 8\n",
    "style[\"vertex_label_size\"] = 8\n",
    "style[\"edge_curved\"] = False\n",
    "# https://igraph.org/c/doc/igraph-Layout.html#igraph_layout_graphopt\n",
    "style[\"layout\"] = g.layout_fruchterman_reingold(weights=g.es[\"weight\"])\n",
    "\n",
    "p = plot(g, os.path.join(output_folder, fn), **style)"
   ]
  },
  {
   "cell_type": "code",
   "execution_count": 16,
   "metadata": {},
   "outputs": [
    {
     "name": "stdout",
     "output_type": "stream",
     "text": [
      "Number of vertices in the graph: 32\n",
      "Number of edges in the graph 115\n",
      "Is the graph directed: False\n",
      "Maximum degree in the graph: 24\n"
     ]
    }
   ],
   "source": [
    "print(\"Number of vertices in the graph:\", g.vcount())\n",
    "print(\"Number of edges in the graph\", g.ecount())\n",
    "print(\"Is the graph directed:\", g.is_directed())\n",
    "print(\"Maximum degree in the graph:\", g.maxdegree())\n",
    "# print(\"Adjacency matrix:\\n\", g.get_adjacency())"
   ]
  },
  {
   "cell_type": "code",
   "execution_count": null,
   "metadata": {},
   "outputs": [],
   "source": []
  }
 ],
 "metadata": {
  "kernelspec": {
   "display_name": "Python 3",
   "language": "python",
   "name": "python3"
  },
  "language_info": {
   "codemirror_mode": {
    "name": "ipython",
    "version": 3
   },
   "file_extension": ".py",
   "mimetype": "text/x-python",
   "name": "python",
   "nbconvert_exporter": "python",
   "pygments_lexer": "ipython3",
   "version": "3.7.6"
  }
 },
 "nbformat": 4,
 "nbformat_minor": 4
}
