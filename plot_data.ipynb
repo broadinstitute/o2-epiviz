{
 "cells": [
  {
   "cell_type": "code",
   "execution_count": 1,
   "metadata": {},
   "outputs": [],
   "source": [
    "import glob\n",
    "import os\n",
    "from datetime import datetime, timedelta, date\n",
    "from os import path\n",
    "\n",
    "from igraph import *\n",
    "\n",
    "import seaborn as sns\n",
    "import numpy as np\n",
    "import pandas as pd\n",
    "\n",
    "import matplotlib.pyplot as plt\n",
    "%matplotlib inline"
   ]
  },
  {
   "cell_type": "code",
   "execution_count": 24,
   "metadata": {},
   "outputs": [],
   "source": [
    "# Various datasets to visualize\n",
    "\n",
    "option = 1\n",
    "\n",
    "if option == 1:\n",
    "    base_folder = \"./osc2020\"\n",
    "#     ext = \"csv\" # Extension of log file, either log or txt\n",
    "#     ntot = 20   # Total number of participants\n",
    "#     vstep = 2   # Time step for visualization\n",
    "#     ostep = 1   # Time step for output to R\n",
    "#     infer_new_cases_from_inf = True # Time for \"new case\" is inferred either from infection or removal time\n",
    "#     asympt = 2  # Asymptomatic period\n",
    "#     sympt = 2   # Symptomatic period\n",
    "#     start_sim = datetime.strptime(\"2020-03-05 13:30\", '%Y-%m-%d %H:%M')\n",
    "#     stop_sim = datetime.strptime(\"2020-03-05 14:15\", '%Y-%m-%d %H:%M')"
   ]
  },
  {
   "cell_type": "code",
   "execution_count": 25,
   "metadata": {},
   "outputs": [],
   "source": [
    "# Some config\n",
    "\n",
    "# Coded outcomes:\n",
    "# 0 = no infection\n",
    "# 1 = index case\n",
    "# 2 = transmission\n",
    "color_dict = {0: \"skyblue\", 1: \"lime\", 2: \"crimson\"}\n",
    "\n",
    "data_folder = path.join(base_folder, \"data\")\n",
    "output_folder = path.join(base_folder, \"output\")\n",
    "if not path.exists(output_folder):\n",
    "    os.mkdir(output_folder)\n",
    "    \n",
    "# viz_delta = timedelta(minutes=vstep)\n",
    "# out_delta = timedelta(minutes=ostep)  "
   ]
  },
  {
   "cell_type": "code",
   "execution_count": 88,
   "metadata": {},
   "outputs": [
    {
     "name": "stdout",
     "output_type": "stream",
     "text": [
      "47\n",
      "47\n",
      "47\n",
      "47\n"
     ]
    }
   ],
   "source": [
    "# Load participants and histories\n",
    "\n",
    "users = pd.read_csv(path.join(data_folder, \"participants.csv\")) \n",
    "histories = pd.read_csv(path.join(data_folder, \"histories.csv\"))\n",
    "\n",
    "p2pToSim = pd.Series(users.sim_id.values, index=users.p2p_id).to_dict()\n",
    "\n",
    "# dfc = participants[participants[\"sim_id\"] == 5]\n",
    "# dictc = pd.Series(dfc.id.values,index=dfc.p2p_id).to_dict()\n",
    "\n",
    "# dfs = participants[participants[\"sim_id\"] == 6]\n",
    "# dicts = pd.Series(dfs.id.values,index=dfs.p2p_id).to_dict()\n",
    "\n",
    "# center group\n",
    "gr = 5 \n",
    "fn = \"contacts-center.pdf\"\n",
    "\n",
    "#south group\n",
    "# gr = 6 \n",
    "# fn = \"contacts-south.pdf\"\n",
    "\n",
    "# north group\n",
    "# gr = 7 \n",
    "# fn = \"contacts-north.pdf\"\n",
    "\n",
    "dfn = users[users[\"sim_id\"] == gr]\n",
    "hn = histories[histories[\"sim_id\"] == gr]\n",
    "cn = hn[hn[\"type\"] == \"contact\"]\n",
    "\n",
    "dfn\n",
    "p2pToId = pd.Series(dfn.id.values, index=dfn.p2p_id).to_dict()\n",
    "idTop2p = pd.Series(dfn.p2p_id.values, index=dfn.id).to_dict()\n",
    "        \n",
    "user_index = {}\n",
    "idx = 0\n",
    "for kid in idTop2p:\n",
    "    user_index[kid] = idx\n",
    "    idx += 1\n",
    "\n",
    "print(len(dfn))\n",
    "print(len(idTop2p))    \n",
    "print(len(p2pToId))\n",
    "print(len(user_index))"
   ]
  },
  {
   "cell_type": "code",
   "execution_count": 89,
   "metadata": {},
   "outputs": [
    {
     "name": "stdout",
     "output_type": "stream",
     "text": [
      "{}\n"
     ]
    }
   ],
   "source": [
    "# Generate contacts\n",
    "\n",
    "node0 = cn.user_id.values\n",
    "node1 = cn.peer_id.values\n",
    "time = cn.time.values\n",
    "length = cn.contact_length.values\n",
    "\n",
    "contacts = {}\n",
    "for id0, p2p1, t, l01 in zip(node0, node1, time, length):\n",
    "    n0 = user_index[id0]\n",
    "    if not p2p1 in p2pToId:\n",
    "        print(\"Possible contact with group\", p2pToSim[p2p1])\n",
    "        continue\n",
    "    n1 = user_index[p2pToId[p2p1]]\n",
    "    \n",
    "    t = datetime.fromtimestamp(t)\n",
    "    \n",
    "    if n1 < n0:\n",
    "        t = n1\n",
    "        n1 = n0\n",
    "        n0 = t\n",
    "    p01 = (n0, n1)\n",
    "    if p01 in contacts:\n",
    "        c = contacts[p01]\n",
    "    else: \n",
    "        c = 0\n",
    "    contacts[p01] = c + round(l01 / (60 * 1000))\n",
    "    \n",
    "print(contacts)"
   ]
  },
  {
   "cell_type": "code",
   "execution_count": 90,
   "metadata": {},
   "outputs": [],
   "source": [
    "# Generate infections and outcomes\n",
    "\n",
    "inf = hn[hn[\"type\"] == \"infection\"]\n",
    "infMap = pd.Series(inf.inf.values, index=inf.user_id).to_dict()\n",
    "outcomes = [0] * len(dfn)\n",
    "\n",
    "for kid in infMap:\n",
    "    src = infMap[kid]\n",
    "    idx = user_index[kid]\n",
    "    if \"CASE0\" in src:\n",
    "        outcomes[idx] = 1\n",
    "    if \"PEER\" in src:\n",
    "        outcomes[idx] = 2"
   ]
  },
  {
   "cell_type": "code",
   "execution_count": 91,
   "metadata": {},
   "outputs": [
    {
     "name": "stdout",
     "output_type": "stream",
     "text": [
      "True\n"
     ]
    }
   ],
   "source": [
    "nvert = len(user_index)\n",
    "\n",
    "edges = []\n",
    "weights = []\n",
    "edgesw = []\n",
    "for p in contacts:\n",
    "    n0 = p[0]\n",
    "    n1 = p[1]\n",
    "    w = contacts[p]\n",
    "    if 0 < w:\n",
    "        edges += [(n0, n1)]\n",
    "        weights += [w]\n",
    "        edgesw += [(n0, n1, w)]\n",
    "\n",
    "# https://stackoverflow.com/a/50430444\n",
    "g = Graph(directed=False)\n",
    "g.add_vertices(nvert)\n",
    "g.add_edges(edges)\n",
    "g.es['weight'] = weights\n",
    "# g.es['label'] = weights\n",
    "\n",
    "# g = Graph.TupleList(edgesw, weights=True)\n",
    "\n",
    "g.vs[\"outcome\"] = outcomes\n",
    "g.vs[\"color\"] = [color_dict[out] for out in g.vs[\"outcome\"]]\n",
    "\n",
    "print(g.is_weighted())\n",
    "\n",
    "style = {}\n",
    "style[\"bbox\"] = (800, 800)\n",
    "style[\"margin\"] = 15\n",
    "style[\"vertex_size\"] = 8\n",
    "style[\"vertex_label_size\"] = 8\n",
    "style[\"edge_curved\"] = False\n",
    "# https://igraph.org/c/doc/igraph-Layout.html#igraph_layout_graphopt\n",
    "style[\"layout\"] = g.layout_fruchterman_reingold(weights=g.es[\"weight\"])\n",
    "\n",
    "p = plot(g, os.path.join(output_folder, fn), **style)"
   ]
  },
  {
   "cell_type": "code",
   "execution_count": 92,
   "metadata": {},
   "outputs": [
    {
     "name": "stdout",
     "output_type": "stream",
     "text": [
      "Number of vertices in the graph: 47\n",
      "Number of edges in the graph 0\n",
      "Is the graph directed: False\n",
      "Maximum degree in the graph: 0\n"
     ]
    }
   ],
   "source": [
    "print(\"Number of vertices in the graph:\", g.vcount())\n",
    "print(\"Number of edges in the graph\", g.ecount())\n",
    "print(\"Is the graph directed:\", g.is_directed())\n",
    "print(\"Maximum degree in the graph:\", g.maxdegree())\n",
    "# print(\"Adjacency matrix:\\n\", g.get_adjacency())"
   ]
  }
 ],
 "metadata": {
  "kernelspec": {
   "display_name": "Python 3",
   "language": "python",
   "name": "python3"
  },
  "language_info": {
   "codemirror_mode": {
    "name": "ipython",
    "version": 3
   },
   "file_extension": ".py",
   "mimetype": "text/x-python",
   "name": "python",
   "nbconvert_exporter": "python",
   "pygments_lexer": "ipython3",
   "version": "3.7.6"
  }
 },
 "nbformat": 4,
 "nbformat_minor": 4
}
