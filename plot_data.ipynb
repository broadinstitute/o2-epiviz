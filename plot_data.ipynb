{
 "cells": [
  {
   "cell_type": "code",
   "execution_count": 1,
   "metadata": {},
   "outputs": [],
   "source": [
    "import glob\n",
    "import os\n",
    "from datetime import datetime, timedelta, date\n",
    "from os import path\n",
    "\n",
    "from igraph import *\n",
    "\n",
    "import seaborn as sns\n",
    "import numpy as np\n",
    "import pandas as pd\n",
    "\n",
    "import matplotlib.pyplot as plt\n",
    "%matplotlib inline"
   ]
  },
  {
   "cell_type": "code",
   "execution_count": 2,
   "metadata": {},
   "outputs": [],
   "source": [
    "# Various datasets to visualize\n",
    "\n",
    "option = 1\n",
    "\n",
    "if option == 1:\n",
    "    base_folder = \"./osc2020\"\n",
    "#     ext = \"csv\" # Extension of log file, either log or txt\n",
    "#     ntot = 20   # Total number of participants\n",
    "#     vstep = 2   # Time step for visualization\n",
    "#     ostep = 1   # Time step for output to R\n",
    "#     infer_new_cases_from_inf = True # Time for \"new case\" is inferred either from infection or removal time\n",
    "#     asympt = 2  # Asymptomatic period\n",
    "#     sympt = 2   # Symptomatic period\n",
    "#     start_sim = datetime.strptime(\"2020-03-05 13:30\", '%Y-%m-%d %H:%M')\n",
    "#     stop_sim = datetime.strptime(\"2020-03-05 14:15\", '%Y-%m-%d %H:%M')"
   ]
  },
  {
   "cell_type": "code",
   "execution_count": 140,
   "metadata": {},
   "outputs": [],
   "source": [
    "# Some config\n",
    "\n",
    "# Coded outcomes:\n",
    "# 0 = no infection\n",
    "# 1 = index case\n",
    "# 2 = transmission\n",
    "color_dict = {0: \"Lime Green\", 1: \"White\", 2: \"Dark Orange\"}\n",
    "\n",
    "data_folder = path.join(base_folder, \"data\")\n",
    "output_folder = path.join(base_folder, \"output\")\n",
    "if not path.exists(output_folder):\n",
    "    os.mkdir(output_folder)\n",
    "    \n",
    "# viz_delta = timedelta(minutes=vstep)\n",
    "# out_delta = timedelta(minutes=ostep)  "
   ]
  },
  {
   "cell_type": "code",
   "execution_count": 141,
   "metadata": {},
   "outputs": [
    {
     "name": "stdout",
     "output_type": "stream",
     "text": [
      "121\n",
      "121\n",
      "121\n",
      "121\n",
      "8\n"
     ]
    }
   ],
   "source": [
    "# Load participants and histories\n",
    "\n",
    "users = pd.read_csv(path.join(data_folder, \"participants.csv\")) \n",
    "histories = pd.read_csv(path.join(data_folder, \"histories.csv\"))\n",
    "\n",
    "p2pToSim = pd.Series(users.sim_id.values,index=users.p2p_id).to_dict()\n",
    "\n",
    "# dfc = participants[participants[\"sim_id\"] == 5]\n",
    "# dictc = pd.Series(dfc.id.values,index=dfc.p2p_id).to_dict()\n",
    "\n",
    "# dfs = participants[participants[\"sim_id\"] == 6]\n",
    "# dicts = pd.Series(dfs.id.values,index=dfs.p2p_id).to_dict()\n",
    "\n",
    "# center group\n",
    "# gr = 5 \n",
    "# fn = \"contacts-center.pdf\"\n",
    "\n",
    "#south group\n",
    "gr = 6 \n",
    "fn = \"contacts-south.pdf\"\n",
    "\n",
    "# north group\n",
    "# gr = 7 \n",
    "# fn = \"contacts-north.pdf\"\n",
    "\n",
    "dfn = participants[participants[\"sim_id\"] == gr]\n",
    "hn = histories[histories[\"sim_id\"] == gr]\n",
    "cn = hn[hn[\"type\"] == \"contact\"]\n",
    "\n",
    "df = dfn\n",
    "p2pToId = pd.Series(df.id.values, index=df.p2p_id).to_dict()\n",
    "idTop2p = pd.Series(df.p2p_id.values, index=df.id).to_dict()\n",
    "        \n",
    "user_index = {}\n",
    "idx = 0\n",
    "for kid in idTop2p:\n",
    "    user_index[kid] = idx\n",
    "    idx += 1\n",
    "\n",
    "        \n",
    "print(len(df))\n",
    "print(len(idTop2p))    \n",
    "print(len(p2pToId))\n",
    "print(len(user_index))\n",
    "print(len(infMap))"
   ]
  },
  {
   "cell_type": "code",
   "execution_count": 142,
   "metadata": {},
   "outputs": [
    {
     "name": "stdout",
     "output_type": "stream",
     "text": [
      "Possible contact with group 5\n",
      "{(37, 38): 2, (5, 38): 6, (4, 25): 13, (29, 31): 2, (38, 42): 2, (38, 44): 1, (38, 45): 2, (29, 30): 1, (20, 29): 1, (59, 60): 94, (58, 59): 3, (58, 60): 13, (60, 69): 184, (59, 69): 4, (51, 70): 30, (14, 73): 214, (59, 84): 3, (45, 86): 3, (44, 86): 2, (51, 59): 4, (44, 94): 1, (51, 97): 1, (51, 96): 1, (21, 33): 1, (51, 99): 1}\n"
     ]
    }
   ],
   "source": [
    "# Generate contacts\n",
    "\n",
    "node0 = cn.user_id.values\n",
    "node1 = cn.peer_id.values\n",
    "\n",
    "contacts = {}\n",
    "for id0, p2p1 in zip(node0, node1):\n",
    "    n0 = user_index[id0]\n",
    "    if not p2p1 in p2pToId:\n",
    "        print(\"Possible contact with group\", p2pToSim[p2p1])\n",
    "        continue\n",
    "    n1 = user_index[p2pToId[p2p1]]\n",
    "    if n1 < n0:\n",
    "        t = n1\n",
    "        n1 = n0\n",
    "        n0 = t\n",
    "    p01 = (n0, n1)\n",
    "    if p01 in contacts:\n",
    "        c = contacts[p01]\n",
    "    else: \n",
    "        c = 0\n",
    "    contacts[p01] = c + 1\n",
    "    \n",
    "print(contacts)"
   ]
  },
  {
   "cell_type": "code",
   "execution_count": 143,
   "metadata": {},
   "outputs": [],
   "source": [
    "# Generate infections and outcomes\n",
    "\n",
    "inf = hn[hn[\"type\"] == \"infection\"]\n",
    "infMap = pd.Series(inf.inf.values, index=inf.user_id).to_dict()\n",
    "outcomes = [0] * len(df)\n",
    "\n",
    "for kid in infMap:\n",
    "    src = infMap[kid]\n",
    "    idx = user_index[kid]\n",
    "    if \"CASE0\" in src:\n",
    "        outcomes[idx] = 1\n",
    "    if \"PEER\" in src:\n",
    "        outcomes[idx] = 2"
   ]
  },
  {
   "cell_type": "code",
   "execution_count": 144,
   "metadata": {},
   "outputs": [],
   "source": [
    "nvert = len(user_index)\n",
    "\n",
    "g = Graph(directed=False)\n",
    "g.add_vertices(nvert)\n",
    "\n",
    "g.vs[\"outcome\"] = outcomes\n",
    "g.vs[\"color\"] = [color_dict[out] for out in g.vs[\"outcome\"]]\n",
    "\n",
    "for p in contacts:\n",
    "    n0 = p[0]\n",
    "    n1 = p[1]    \n",
    "    w = contacts[p]\n",
    "    g.add_edges([(n0, n1)])\n",
    "\n",
    "layout = g.layout(\"fr\")\n",
    "p = plot(g, os.path.join(output_folder, fn), \n",
    "         layout = layout, vertex_size = 9, edge_arrow_width = 1, edge_arrow_size = 0.5, bbox=(0, 0, 800, 800))"
   ]
  },
  {
   "cell_type": "code",
   "execution_count": null,
   "metadata": {},
   "outputs": [],
   "source": []
  }
 ],
 "metadata": {
  "kernelspec": {
   "display_name": "Python 3",
   "language": "python",
   "name": "python3"
  },
  "language_info": {
   "codemirror_mode": {
    "name": "ipython",
    "version": 3
   },
   "file_extension": ".py",
   "mimetype": "text/x-python",
   "name": "python",
   "nbconvert_exporter": "python",
   "pygments_lexer": "ipython3",
   "version": "3.7.6"
  }
 },
 "nbformat": 4,
 "nbformat_minor": 4
}
