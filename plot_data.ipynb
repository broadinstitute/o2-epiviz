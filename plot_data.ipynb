{
 "cells": [
  {
   "cell_type": "code",
   "execution_count": 24,
   "metadata": {},
   "outputs": [],
   "source": [
    "import glob\n",
    "import os\n",
    "from datetime import datetime, timedelta, date\n",
    "from os import path\n",
    "\n",
    "from igraph import *\n",
    "\n",
    "import seaborn as sns\n",
    "import numpy as np\n",
    "import pandas as pd\n",
    "\n",
    "import matplotlib.pyplot as plt\n",
    "%matplotlib inline"
   ]
  },
  {
   "cell_type": "code",
   "execution_count": 32,
   "metadata": {},
   "outputs": [],
   "source": [
    "# Various datasets to visualize\n",
    "\n",
    "option = 2\n",
    "\n",
    "if option == 1:\n",
    "    base_folder = \"./retreat2020\"\n",
    "    sim_id = 29\n",
    "if option == 2:\n",
    "    base_folder = \"./cmutest\"\n",
    "    sim_id = 32\n",
    "    \n",
    "output_fn = \"contacts.pdf\"    \n",
    "    \n",
    "#     ext = \"csv\" # Extension of log file, either log or txt\n",
    "#     ntot = 20   # Total number of participants\n",
    "#     vstep = 2   # Time step for visualization\n",
    "#     ostep = 1   # Time step for output to R\n",
    "#     infer_new_cases_from_inf = True # Time for \"new case\" is inferred either from infection or removal time\n",
    "#     asympt = 2  # Asymptomatic period\n",
    "#     sympt = 2   # Symptomatic period\n",
    "#     start_sim = datetime.strptime(\"2020-03-05 13:30\", '%Y-%m-%d %H:%M')\n",
    "#     stop_sim = datetime.strptime(\"2020-03-05 14:15\", '%Y-%m-%d %H:%M')"
   ]
  },
  {
   "cell_type": "code",
   "execution_count": 33,
   "metadata": {},
   "outputs": [],
   "source": [
    "# Some config\n",
    "\n",
    "# Coded outcomes:\n",
    "# 0 = no infection\n",
    "# 1 = index case\n",
    "# 2 = transmission\n",
    "color_dict = {0: \"skyblue\", 1: \"lime\", 2: \"crimson\"}\n",
    "\n",
    "data_folder = path.join(base_folder, \"data\")\n",
    "output_folder = path.join(base_folder, \"output\")\n",
    "if not path.exists(output_folder):\n",
    "    os.mkdir(output_folder)\n",
    "    \n",
    "# viz_delta = timedelta(minutes=vstep)\n",
    "# out_delta = timedelta(minutes=ostep)  "
   ]
  },
  {
   "cell_type": "code",
   "execution_count": 34,
   "metadata": {},
   "outputs": [
    {
     "name": "stdout",
     "output_type": "stream",
     "text": [
      "     id                                p2p_id  sim_id\n",
      "0   551  95a88f98-bca8-4884-90e8-1adfe792e6f1      32\n",
      "1   553  5925ef2f-780b-4186-85e3-67a6e333ae77      32\n",
      "2   554  5b0d44d7-8760-4062-8439-c61b925a5604      32\n",
      "3   555  085c6f6c-c212-42a0-b106-3d0e8343a395      32\n",
      "4   556  09432a8c-5892-4d69-ada3-9148031abdd8      32\n",
      "5   557  35e2abf4-13b6-4809-9fb7-5bd41c1622ed      32\n",
      "6   558  d6d97c0d-afde-4842-bdc5-60af1b1cbdd3      32\n",
      "7   559  58df9ee7-8729-4206-876e-9d491480b49c      32\n",
      "8   560  3cd022e9-6b3f-4843-a6b9-6b68b29b3245      32\n",
      "9   561  2e385ca5-4105-4b8e-b41c-16ea60c9f831      32\n",
      "10  562  3cb88365-abd8-4e6e-8cb5-86651ccb7d02      32\n",
      "11  563  c346ea59-71b9-4af3-b96b-43cac31b8e76      32\n",
      "12  564  b63275cf-0218-4f71-9e2b-20ee271fbcdd      32\n",
      "13  565  190cc019-6518-4255-92d2-14012d586682      32\n",
      "14  566  262f5280-3ff4-4e6e-8145-4652bfec81f1      32\n",
      "15  567  95078318-78c5-4daf-999d-7c41b217e266      32\n",
      "16  570  5f8c2cda-7cdc-47d7-8a38-cf3a80ebdcc0      32\n",
      "17\n",
      "17\n",
      "17\n",
      "17\n"
     ]
    }
   ],
   "source": [
    "# Load participants and histories\n",
    "\n",
    "all_users = pd.read_csv(path.join(data_folder, \"participants.csv\")) \n",
    "all_events = pd.read_csv(path.join(data_folder, \"histories.csv\"))\n",
    "\n",
    "users = all_users[all_users[\"sim_id\"] == sim_id]\n",
    "events = all_events[all_events[\"sim_id\"] == sim_id]\n",
    "contacts = events[events[\"type\"] == \"contact\"]\n",
    "\n",
    "p2pToSim = pd.Series(users.sim_id.values, index=users.p2p_id).to_dict()\n",
    "p2pToId = pd.Series(users.id.values, index=users.p2p_id).to_dict()\n",
    "idTop2p = pd.Series(users.p2p_id.values, index=users.id).to_dict()\n",
    "        \n",
    "user_index = {}\n",
    "idx = 0\n",
    "for kid in idTop2p:\n",
    "    user_index[kid] = idx\n",
    "    idx += 1\n",
    "\n",
    "print(users)\n",
    "print(len(users))\n",
    "print(len(idTop2p))    \n",
    "print(len(p2pToId))\n",
    "print(len(user_index))"
   ]
  },
  {
   "cell_type": "code",
   "execution_count": 35,
   "metadata": {},
   "outputs": [
    {
     "name": "stdout",
     "output_type": "stream",
     "text": [
      "{(7, 13): 33.0, (8, 13): 11.0, (7, 16): 11.0, (1, 13): 6.0, (7, 12): 34.0, (7, 8): 3.0, (5, 13): 7.0, (2, 12): 8.0, (10, 13): 4.0, (3, 13): 5.0, (6, 13): 4.0, (9, 13): 6.0, (12, 13): 2.0, (2, 13): 6.0, (6, 7): 6.0, (5, 7): 6.0, (3, 7): 7.0, (7, 10): 1.0, (1, 6): 11.0, (5, 6): 13.0, (2, 6): 15.0, (7, 11): 10.0, (1, 7): 7.0, (3, 11): 2.0, (6, 9): 4.0, (11, 13): 4.0, (7, 9): 4.0, (2, 7): 2.0}\n"
     ]
    }
   ],
   "source": [
    "# Generate contacts\n",
    "\n",
    "node0 = contacts.user_id.values\n",
    "node1 = contacts.peer_id.values\n",
    "time = contacts.time.values\n",
    "length = contacts.contact_length.values\n",
    "\n",
    "contacts = {}\n",
    "for id0, p2p1, t, l01 in zip(node0, node1, time, length):\n",
    "    n0 = user_index[id0]\n",
    "    if not p2p1 in p2pToId:\n",
    "        print(\"Possible contact with group\", p2pToSim[p2p1])\n",
    "        continue\n",
    "    n1 = user_index[p2pToId[p2p1]]\n",
    "    \n",
    "    t = datetime.fromtimestamp(t)\n",
    "    \n",
    "    if n1 < n0:\n",
    "        t = n1\n",
    "        n1 = n0\n",
    "        n0 = t\n",
    "    p01 = (n0, n1)\n",
    "    if p01 in contacts:\n",
    "        c = contacts[p01]\n",
    "    else: \n",
    "        c = 0\n",
    "    contacts[p01] = c + round(l01 / (60 * 1000))\n",
    "    \n",
    "print(contacts)"
   ]
  },
  {
   "cell_type": "code",
   "execution_count": 36,
   "metadata": {},
   "outputs": [],
   "source": [
    "# Generate infections and outcomes\n",
    "\n",
    "inf = events[events[\"type\"] == \"infection\"]\n",
    "infMap = pd.Series(inf.inf.values, index=inf.user_id).to_dict()\n",
    "outcomes = [0] * len(users)\n",
    "\n",
    "for kid in infMap:\n",
    "    src = infMap[kid]\n",
    "    idx = user_index[kid]\n",
    "    if \"CASE0\" in src:\n",
    "        outcomes[idx] = 1\n",
    "    if \"PEER\" in src:\n",
    "        outcomes[idx] = 2"
   ]
  },
  {
   "cell_type": "code",
   "execution_count": 37,
   "metadata": {},
   "outputs": [
    {
     "name": "stdout",
     "output_type": "stream",
     "text": [
      "True\n"
     ]
    }
   ],
   "source": [
    "nvert = len(user_index)\n",
    "\n",
    "edges = []\n",
    "weights = []\n",
    "edgesw = []\n",
    "for p in contacts:\n",
    "    n0 = p[0]\n",
    "    n1 = p[1]\n",
    "    w = contacts[p]\n",
    "    if 0 < w:\n",
    "        edges += [(n0, n1)]\n",
    "        weights += [w]\n",
    "        edgesw += [(n0, n1, w)]\n",
    "\n",
    "# https://stackoverflow.com/a/50430444\n",
    "g = Graph(directed=False)\n",
    "g.add_vertices(nvert)\n",
    "g.add_edges(edges)\n",
    "g.es['weight'] = weights\n",
    "# g.es['label'] = weights\n",
    "\n",
    "# g = Graph.TupleList(edgesw, weights=True)\n",
    "\n",
    "g.vs[\"outcome\"] = outcomes\n",
    "g.vs[\"color\"] = [color_dict[out] for out in g.vs[\"outcome\"]]\n",
    "\n",
    "print(g.is_weighted())\n",
    "\n",
    "style = {}\n",
    "style[\"bbox\"] = (800, 800)\n",
    "style[\"margin\"] = 15\n",
    "style[\"vertex_size\"] = 8\n",
    "style[\"vertex_label_size\"] = 8\n",
    "style[\"edge_curved\"] = False\n",
    "# https://igraph.org/c/doc/igraph-Layout.html#igraph_layout_graphopt\n",
    "style[\"layout\"] = g.layout_fruchterman_reingold(weights=g.es[\"weight\"])\n",
    "\n",
    "p = plot(g, os.path.join(output_folder, output_fn), **style)"
   ]
  },
  {
   "cell_type": "code",
   "execution_count": 38,
   "metadata": {},
   "outputs": [
    {
     "name": "stdout",
     "output_type": "stream",
     "text": [
      "Number of vertices in the graph: 17\n",
      "Number of edges in the graph 28\n",
      "Is the graph directed: False\n",
      "Maximum degree in the graph: 12\n"
     ]
    }
   ],
   "source": [
    "print(\"Number of vertices in the graph:\", g.vcount())\n",
    "print(\"Number of edges in the graph\", g.ecount())\n",
    "print(\"Is the graph directed:\", g.is_directed())\n",
    "print(\"Maximum degree in the graph:\", g.maxdegree())\n",
    "# print(\"Adjacency matrix:\\n\", g.get_adjacency())"
   ]
  },
  {
   "cell_type": "code",
   "execution_count": null,
   "metadata": {},
   "outputs": [],
   "source": []
  }
 ],
 "metadata": {
  "kernelspec": {
   "display_name": "Python 3",
   "language": "python",
   "name": "python3"
  },
  "language_info": {
   "codemirror_mode": {
    "name": "ipython",
    "version": 3
   },
   "file_extension": ".py",
   "mimetype": "text/x-python",
   "name": "python",
   "nbconvert_exporter": "python",
   "pygments_lexer": "ipython3",
   "version": "3.7.6"
  }
 },
 "nbformat": 4,
 "nbformat_minor": 4
}
