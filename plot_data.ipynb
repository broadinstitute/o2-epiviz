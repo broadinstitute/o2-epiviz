{
 "cells": [
  {
   "cell_type": "code",
   "execution_count": 1,
   "metadata": {},
   "outputs": [],
   "source": [
    "import glob\n",
    "import os\n",
    "from datetime import datetime, timedelta, date\n",
    "from os import path\n",
    "\n",
    "from igraph import *\n",
    "\n",
    "import seaborn as sns\n",
    "import numpy as np\n",
    "import pandas as pd\n",
    "\n",
    "import matplotlib.pyplot as plt\n",
    "%matplotlib inline"
   ]
  },
  {
   "cell_type": "code",
   "execution_count": 2,
   "metadata": {},
   "outputs": [],
   "source": [
    "# Various datasets to visualize\n",
    "\n",
    "option = 1\n",
    "\n",
    "if option == 1:\n",
    "    base_folder = \"./osc2020\"\n",
    "#     ext = \"csv\" # Extension of log file, either log or txt\n",
    "#     ntot = 20   # Total number of participants\n",
    "#     vstep = 2   # Time step for visualization\n",
    "#     ostep = 1   # Time step for output to R\n",
    "#     infer_new_cases_from_inf = True # Time for \"new case\" is inferred either from infection or removal time\n",
    "#     asympt = 2  # Asymptomatic period\n",
    "#     sympt = 2   # Symptomatic period\n",
    "#     start_sim = datetime.strptime(\"2020-03-05 13:30\", '%Y-%m-%d %H:%M')\n",
    "#     stop_sim = datetime.strptime(\"2020-03-05 14:15\", '%Y-%m-%d %H:%M')"
   ]
  },
  {
   "cell_type": "code",
   "execution_count": 51,
   "metadata": {},
   "outputs": [],
   "source": [
    "# Some config\n",
    "\n",
    "# Coded outcomes:\n",
    "# 0 = no infection\n",
    "# 1 = index case\n",
    "# 2 = transmission\n",
    "color_dict = {0: \"skyblue\", 1: \"lime\", 2: \"crimson\"}\n",
    "\n",
    "data_folder = path.join(base_folder, \"data\")\n",
    "output_folder = path.join(base_folder, \"output\")\n",
    "if not path.exists(output_folder):\n",
    "    os.mkdir(output_folder)\n",
    "    \n",
    "# viz_delta = timedelta(minutes=vstep)\n",
    "# out_delta = timedelta(minutes=ostep)  "
   ]
  },
  {
   "cell_type": "code",
   "execution_count": 61,
   "metadata": {},
   "outputs": [
    {
     "name": "stdout",
     "output_type": "stream",
     "text": [
      "126\n",
      "126\n",
      "126\n",
      "126\n"
     ]
    }
   ],
   "source": [
    "# Load participants and histories\n",
    "\n",
    "users = pd.read_csv(path.join(data_folder, \"participants.csv\")) \n",
    "histories = pd.read_csv(path.join(data_folder, \"histories.csv\"))\n",
    "\n",
    "p2pToSim = pd.Series(users.sim_id.values, index=users.p2p_id).to_dict()\n",
    "\n",
    "# dfc = participants[participants[\"sim_id\"] == 5]\n",
    "# dictc = pd.Series(dfc.id.values,index=dfc.p2p_id).to_dict()\n",
    "\n",
    "# dfs = participants[participants[\"sim_id\"] == 6]\n",
    "# dicts = pd.Series(dfs.id.values,index=dfs.p2p_id).to_dict()\n",
    "\n",
    "# center group\n",
    "# gr = 5 \n",
    "# fn = \"contacts-center.pdf\"\n",
    "\n",
    "#south group\n",
    "# gr = 6 \n",
    "# fn = \"contacts-south.pdf\"\n",
    "\n",
    "# north group\n",
    "gr = 7 \n",
    "fn = \"contacts-north.pdf\"\n",
    "\n",
    "dfn = users[users[\"sim_id\"] == gr]\n",
    "hn = histories[histories[\"sim_id\"] == gr]\n",
    "cn = hn[hn[\"type\"] == \"contact\"]\n",
    "\n",
    "dfn\n",
    "p2pToId = pd.Series(dfn.id.values, index=dfn.p2p_id).to_dict()\n",
    "idTop2p = pd.Series(dfn.p2p_id.values, index=dfn.id).to_dict()\n",
    "        \n",
    "user_index = {}\n",
    "idx = 0\n",
    "for kid in idTop2p:\n",
    "    user_index[kid] = idx\n",
    "    idx += 1\n",
    "\n",
    "print(len(dfn))\n",
    "print(len(idTop2p))    \n",
    "print(len(p2pToId))\n",
    "print(len(user_index))"
   ]
  },
  {
   "cell_type": "code",
   "execution_count": 62,
   "metadata": {},
   "outputs": [
    {
     "name": "stdout",
     "output_type": "stream",
     "text": [
      "Possible contact with group 5\n",
      "{(118, 124): 2, (44, 118): 6, (21, 59): 13, (9, 123): 2, (53, 118): 2, (49, 118): 1, (107, 118): 2, (24, 123): 1, (39, 123): 1, (85, 110): 94, (8, 85): 3, (8, 110): 13, (86, 110): 190, (85, 86): 4, (14, 84): 30, (31, 83): 230, (85, 125): 16, (2, 107): 3, (2, 49): 2, (84, 85): 4, (49, 101): 1, (84, 97): 1, (54, 84): 1, (48, 91): 1, (29, 84): 1, (52, 117): 3, (52, 54): 5}\n"
     ]
    }
   ],
   "source": [
    "# Generate contacts\n",
    "\n",
    "node0 = cn.user_id.values\n",
    "node1 = cn.peer_id.values\n",
    "\n",
    "contacts = {}\n",
    "for id0, p2p1 in zip(node0, node1):\n",
    "    n0 = user_index[id0]\n",
    "    if not p2p1 in p2pToId:\n",
    "        print(\"Possible contact with group\", p2pToSim[p2p1])\n",
    "        continue\n",
    "    n1 = user_index[p2pToId[p2p1]]\n",
    "    if n1 < n0:\n",
    "        t = n1\n",
    "        n1 = n0\n",
    "        n0 = t\n",
    "    p01 = (n0, n1)\n",
    "    if p01 in contacts:\n",
    "        c = contacts[p01]\n",
    "    else: \n",
    "        c = 0\n",
    "    contacts[p01] = c + 1\n",
    "    \n",
    "print(contacts)"
   ]
  },
  {
   "cell_type": "code",
   "execution_count": 63,
   "metadata": {},
   "outputs": [],
   "source": [
    "# Generate infections and outcomes\n",
    "\n",
    "inf = hn[hn[\"type\"] == \"infection\"]\n",
    "infMap = pd.Series(inf.inf.values, index=inf.user_id).to_dict()\n",
    "outcomes = [0] * len(dfn)\n",
    "\n",
    "for kid in infMap:\n",
    "    src = infMap[kid]\n",
    "    idx = user_index[kid]\n",
    "    if \"CASE0\" in src:\n",
    "        outcomes[idx] = 1\n",
    "    if \"PEER\" in src:\n",
    "        outcomes[idx] = 2"
   ]
  },
  {
   "cell_type": "code",
   "execution_count": 64,
   "metadata": {},
   "outputs": [],
   "source": [
    "nvert = len(user_index)\n",
    "\n",
    "g = Graph(directed=False)\n",
    "g.add_vertices(nvert)\n",
    "\n",
    "g.vs[\"outcome\"] = outcomes\n",
    "g.vs[\"color\"] = [color_dict[out] for out in g.vs[\"outcome\"]]\n",
    "\n",
    "for p in contacts:\n",
    "    n0 = p[0]\n",
    "    n1 = p[1]    \n",
    "    w = contacts[p]\n",
    "    g.add_edges([(n0, n1)])\n",
    "\n",
    "layout = g.layout(\"fr\")\n",
    "p = plot(g, os.path.join(output_folder, fn), \n",
    "         layout = layout, vertex_size = 12, edge_arrow_width = 1, edge_arrow_size = 0.5, bbox=(0, 0, 800, 800))"
   ]
  },
  {
   "cell_type": "code",
   "execution_count": null,
   "metadata": {},
   "outputs": [],
   "source": []
  },
  {
   "cell_type": "code",
   "execution_count": null,
   "metadata": {},
   "outputs": [],
   "source": []
  }
 ],
 "metadata": {
  "kernelspec": {
   "display_name": "Python 3",
   "language": "python",
   "name": "python3"
  },
  "language_info": {
   "codemirror_mode": {
    "name": "ipython",
    "version": 3
   },
   "file_extension": ".py",
   "mimetype": "text/x-python",
   "name": "python",
   "nbconvert_exporter": "python",
   "pygments_lexer": "ipython3",
   "version": "3.7.6"
  }
 },
 "nbformat": 4,
 "nbformat_minor": 4
}
